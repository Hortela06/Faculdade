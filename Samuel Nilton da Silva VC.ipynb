{
 "cells": [
  {
   "cell_type": "code",
   "execution_count": 1,
   "metadata": {},
   "outputs": [],
   "source": [
    "#Importando as dependencias\n",
    "import cv2\n",
    "import os\n",
    "from pathlib import Path"
   ]
  },
  {
   "cell_type": "code",
   "execution_count": 2,
   "metadata": {},
   "outputs": [],
   "source": [
    "#Função prencipal de tratamento e analise da imamgem recebida\n",
    "def processar_imagem(imagem_path):\n",
    "    imagem = cv2.imread(imagem_path)\n",
    "    if imagem is None:\n",
    "        print(f\"Imagem {imagem_path} não encontrada.\")\n",
    "        return 0 \n",
    "\n",
    "    # Conversão para escala de cinza e aplicação de um filtro blur\n",
    "    cinza = cv2.cvtColor(imagem, cv2.COLOR_BGR2GRAY)\n",
    "    blur = cv2.GaussianBlur(cinza, (5, 5), 0)\n",
    "    \n",
    "    # Binarização da imagem com adaptação para melhorar a detecção de pontos\n",
    "    _, binarizada = cv2.threshold(blur, 120, 255, cv2.THRESH_BINARY_INV)\n",
    "\n",
    "    # Operação morfológica para definir melhor os pontos\n",
    "    kernel = cv2.getStructuringElement(cv2.MORPH_ELLIPSE, (3, 3))\n",
    "    morfologia = cv2.morphologyEx(binarizada, cv2.MORPH_OPEN, kernel)\n",
    "\n",
    "    # Detecção de contornos na imagem tratada com morfologia\n",
    "    contornos, _ = cv2.findContours(morfologia, cv2.RETR_EXTERNAL, cv2.CHAIN_APPROX_SIMPLE)\n",
    "\n",
    "    soma_pontos = 0\n",
    "    for contorno in contornos:\n",
    "        area = cv2.contourArea(contorno)\n",
    "        if 140 < area < 1000:\n",
    "            soma_pontos += 1\n",
    "\n",
    "    cv2.drawContours(imagem, contornos, -1, (0, 255, 0), 3)\n",
    "    cv2.imshow('Contornos Detectados', imagem)\n",
    "    cv2.waitKey(0)\n",
    "    cv2.destroyAllWindows()\n",
    "\n",
    "    return soma_pontos"
   ]
  },
  {
   "cell_type": "code",
   "execution_count": 4,
   "metadata": {},
   "outputs": [
    {
     "name": "stdout",
     "output_type": "stream",
     "text": [
      "Soma dos pontos para img1.jpg: 11\n"
     ]
    }
   ],
   "source": [
    "#Chamando a função, e injetando a imagem de teste\n",
    "imagem_path = 'C:\\\\Users\\\\User\\\\Desktop\\\\NLP\\\\imagensDados\\\\img1.jpg'\n",
    "soma_pontos = processar_imagem(imagem_path)\n",
    "print(f'Soma dos pontos é : {soma_pontos}')"
   ]
  }
 ],
 "metadata": {
  "kernelspec": {
   "display_name": "Python 3",
   "language": "python",
   "name": "python3"
  },
  "language_info": {
   "codemirror_mode": {
    "name": "ipython",
    "version": 3
   },
   "file_extension": ".py",
   "mimetype": "text/x-python",
   "name": "python",
   "nbconvert_exporter": "python",
   "pygments_lexer": "ipython3",
   "version": "3.12.2"
  }
 },
 "nbformat": 4,
 "nbformat_minor": 2
}
